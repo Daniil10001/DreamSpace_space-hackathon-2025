{
 "cells": [
  {
   "cell_type": "markdown",
   "metadata": {},
   "source": [
    "Two-body approximation"
   ]
  },
  {
   "cell_type": "code",
   "execution_count": 343,
   "metadata": {},
   "outputs": [],
   "source": [
    "import numpy as np\n",
    "from scipy.integrate import solve_ivp\n",
    "import matplotlib.pyplot as plt"
   ]
  },
  {
   "cell_type": "code",
   "execution_count": 344,
   "metadata": {},
   "outputs": [],
   "source": [
    "R_earth = 6371302 # in m\n",
    "mu_earth = 398600.4415e+9\n",
    "omega_earth = 7.29211e-5"
   ]
  },
  {
   "cell_type": "markdown",
   "metadata": {},
   "source": [
    "широта (lat) - угол между r и xOy и по  z  определяем знак\n",
    "долгота (long) - угол между r и xOz  по z определяем 360-fi"
   ]
  },
  {
   "cell_type": "code",
   "execution_count": 345,
   "metadata": {},
   "outputs": [],
   "source": [
    "def angle_between(v1,v2):\n",
    "    return np.arccos(np.clip(np.dot(v1 / np.linalg.norm(v1), v2 / np.linalg.norm(v2)), -1.0, 1.0))\n",
    "\n",
    "def getProjection(y):\n",
    "    #print(y)\n",
    "    lat = (np.pi / 2 - angle_between(y[:3], np.array([0,0,1])))\n",
    "    long = angle_between(y[:2], np.array([1,0]))*(np.sign(y[1]) if y[1]!=0 else 1)\n",
    "    return np.append(lat,long)"
   ]
  },
  {
   "cell_type": "code",
   "execution_count": 346,
   "metadata": {},
   "outputs": [
    {
     "data": {
      "text/plain": [
       "np.float64(90.0)"
      ]
     },
     "execution_count": 346,
     "metadata": {},
     "output_type": "execute_result"
    }
   ],
   "source": [
    "angle_between(np.array([0,0,1]), np.array([0,1,0]))*180/np.pi"
   ]
  },
  {
   "cell_type": "code",
   "execution_count": 347,
   "metadata": {},
   "outputs": [
    {
     "name": "stdout",
     "output_type": "stream",
     "text": [
      "[ 0. 90.]\n",
      "[90. nan]\n",
      "[45. 90.]\n",
      "[ 0. 45.]\n",
      "[  0. 180.]\n"
     ]
    },
    {
     "name": "stderr",
     "output_type": "stream",
     "text": [
      "/var/folders/k_/clwcs1zs1wxbpjn827kqbqc40000gn/T/ipykernel_23925/1109198627.py:2: RuntimeWarning: invalid value encountered in divide\n",
      "  return np.arccos(np.clip(np.dot(v1 / np.linalg.norm(v1), v2 / np.linalg.norm(v2)), -1.0, 1.0))\n"
     ]
    }
   ],
   "source": [
    "# [x y z vx vy vz] -> [lat, long]\n",
    "\n",
    "print(getProjection(np.array([0,1,0,0,0,0]))*180/np.pi)\n",
    "print(getProjection(np.array([0,0,1,0,0,0]))*180/np.pi)\n",
    "print(getProjection(np.array([0,1,1,0,0,0]))*180/np.pi)\n",
    "print(getProjection(np.array([1,1,0,0,0,0]))*180/np.pi)\n",
    "print(getProjection(np.array([-0.4,0,0,0,0,0]))*180/np.pi)\n"
   ]
  },
  {
   "cell_type": "code",
   "execution_count": 348,
   "metadata": {},
   "outputs": [],
   "source": [
    "# y is considered horizontal matrix\n",
    "def dydt(t,y_curr: np.array, p):\n",
    "    # gravity center is at (0,0,0)\n",
    "    # a = mu / r**2\n",
    "    grav_pos = np.array([0,0,0])\n",
    "    \n",
    "    r = y_curr[:3]\n",
    "    a = -p['mu'] / np.sqrt(np.sum(r**2)) ** 3 * r\n",
    "    #print(y_curr[:3], a)\n",
    "    return np.append(y_curr[3:], a)"
   ]
  },
  {
   "cell_type": "code",
   "execution_count": 367,
   "metadata": {},
   "outputs": [],
   "source": [
    "def ev(t, y):\n",
    "    return y[2]\n",
    "\n",
    "ev.tremial=0\n",
    "ev.direction=0"
   ]
  },
  {
   "cell_type": "code",
   "execution_count": 387,
   "metadata": {},
   "outputs": [
    {
     "data": {
      "text/plain": [
       "120.0"
      ]
     },
     "execution_count": 387,
     "metadata": {},
     "output_type": "execute_result"
    }
   ],
   "source": [
    "R_orb=500e3+R_earth\n",
    "y_0 = np.array([R_orb, 0, 0, 0, (mu_earth / R_orb)**0.5, 0])\n",
    "\n",
    "T= 120*3600#R_orb * 2 * np.pi *16/ ((mu_earth / R_orb)**0.5)\n",
    "\n",
    "p={'mu': mu_earth, 'i': 98 / 180 * np.pi}\n",
    "\n",
    "Rot_x = np.array([[1,0,0],\n",
    "                      [0, np.cos(p['i']), -np.sin(p['i'])],\n",
    "                      [0, np.sin(p['i']), np.cos(p['i'])]])\n",
    "\n",
    "y_rot = np.append(y_0[:3], np.transpose(Rot_x @ np.transpose(y_0[3:])))\n",
    "sol=solve_ivp(lambda t,y: dydt(t,y,p), [0,T],y_rot, method=\"RK45\",t_eval=np.arange(0,T,60), events=ev, rtol=1e-6)\n",
    "T/3600"
   ]
  },
  {
   "cell_type": "code",
   "execution_count": 388,
   "metadata": {},
   "outputs": [
    {
     "data": {
      "text/plain": [
       "  message: The solver successfully reached the end of the integration interval.\n",
       "  success: True\n",
       "   status: 0\n",
       "        t: [     0     60 ... 431880 431940]\n",
       "        y: [[ 6.871e+06  6.856e+06 ...  2.208e+06  1.771e+06]\n",
       "            [ 0.000e+00 -6.355e+04 ... -9.054e+05 -9.239e+05]\n",
       "            ...\n",
       "            [-1.060e+03 -1.058e+03 ... -3.407e+02 -2.732e+02]\n",
       "            [ 7.542e+03  7.526e+03 ...  2.424e+03  1.944e+03]]\n",
       "      sol: None\n",
       " t_events: [array([ 0.000e+00,  2.834e+03, ...,  4.279e+05,  4.308e+05])]\n",
       " y_events: [array([[ 6.871e+06,  0.000e+00, ..., -1.060e+03,  7.542e+03],\n",
       "                  [-6.871e+06,  2.328e-10, ...,  1.060e+03, -7.542e+03],\n",
       "                  ...,\n",
       "                  [-6.870e+06,  1.277e-08, ...,  1.060e+03, -7.543e+03],\n",
       "                  [ 6.870e+06, -3.011e-08, ..., -1.060e+03,  7.543e+03]])]\n",
       "     nfev: 15086\n",
       "     njev: 0\n",
       "      nlu: 0"
      ]
     },
     "execution_count": 388,
     "metadata": {},
     "output_type": "execute_result"
    }
   ],
   "source": [
    "sol"
   ]
  },
  {
   "cell_type": "code",
   "execution_count": 389,
   "metadata": {},
   "outputs": [
    {
     "data": {
      "text/plain": [
       "[<mpl_toolkits.mplot3d.art3d.Line3D at 0x11721e170>]"
      ]
     },
     "execution_count": 389,
     "metadata": {},
     "output_type": "execute_result"
    },
    {
     "data": {
      "image/png": "[encoded data removed]",
      "text/plain": [
       "<Figure size 640x480 with 1 Axes>"
      ]
     },
     "metadata": {},
     "output_type": "display_data"
    }
   ],
   "source": [
    "fig, ax = plt.subplots(subplot_kw={\"projection\": \"3d\"})\n",
    "ax.plot(sol.y[0],sol.y[1],sol.y[2])"
   ]
  },
  {
   "cell_type": "markdown",
   "metadata": {},
   "source": []
  },
  {
   "cell_type": "code",
   "execution_count": 390,
   "metadata": {},
   "outputs": [
    {
     "data": {
      "text/plain": [
       "array([[ 6.87130200e+06,  0.00000000e+00,  0.00000000e+00,\n",
       "         0.00000000e+00, -1.05999709e+03,  7.54227121e+03],\n",
       "       [ 6.85611148e+06, -6.35529601e+04,  4.52202808e+05,\n",
       "        -5.06163758e+02, -1.05765373e+03,  7.52559733e+03],\n",
       "       [ 6.81060713e+06, -1.26824909e+05,  9.02406114e+05,\n",
       "        -1.01008905e+03, -1.05063404e+03,  7.47564963e+03],\n",
       "       ...,\n",
       "       [ 2.63543989e+06, -8.83013971e+05,  6.28297088e+06,\n",
       "        -7.03425855e+03, -4.06639174e+02,  2.89338807e+03],\n",
       "       [ 2.20786812e+06, -9.05441334e+05,  6.44254985e+06,\n",
       "        -7.21292208e+03, -3.40665689e+02,  2.42396233e+03],\n",
       "       [ 1.77052972e+06, -9.23863650e+05,  6.57363144e+06,\n",
       "        -7.35967928e+03, -2.73185827e+02,  1.94381816e+03]])"
      ]
     },
     "execution_count": 390,
     "metadata": {},
     "output_type": "execute_result"
    }
   ],
   "source": [
    "np.transpose(sol.y)"
   ]
  },
  {
   "cell_type": "code",
   "execution_count": 391,
   "metadata": {},
   "outputs": [
    {
     "data": {
      "text/plain": [
       "array([[ 6.87130200e+06,  0.00000000e+00,  0.00000000e+00,\n",
       "         0.00000000e+00, -1.05999709e+03,  7.54227121e+03],\n",
       "       [-6.87126517e+06,  2.32830644e-10, -3.25962901e-09,\n",
       "         2.13605950e-03,  1.06000220e+03, -7.54230756e+03],\n",
       "       [ 6.87129055e+06,  5.52972779e-10, -6.98491931e-10,\n",
       "         1.56564517e-04, -1.05999784e+03,  7.54227653e+03],\n",
       "       [-6.87125031e+06,  3.20142135e-10, -4.19095159e-09,\n",
       "         2.40510973e-03,  1.06000354e+03, -7.54231712e+03],\n",
       "       [ 6.87127721e+06,  2.95244718e-10,  1.31967681e-09,\n",
       "         1.88783151e-03, -1.05999888e+03,  7.54228394e+03],\n",
       "       [-6.87123704e+06, -2.81943358e-10, -7.27595761e-10,\n",
       "         1.99886124e-03,  1.06000455e+03, -7.54232429e+03],\n",
       "       [ 6.87126396e+06, -2.18278728e-11,  1.13504939e-09,\n",
       "         1.38183235e-03, -1.05999987e+03,  7.54229095e+03],\n",
       "       [-6.87122382e+06, -1.69529812e-09,  1.04773790e-08,\n",
       "         2.85772585e-03,  1.06000553e+03, -7.54233124e+03],\n",
       "       [ 6.87125198e+06,  7.85803422e-10, -5.12227416e-09,\n",
       "         9.39973117e-04, -1.06000070e+03,  7.54229691e+03],\n",
       "       [-6.87120907e+06, -4.07453626e-10,  8.14907253e-10,\n",
       "         3.85440085e-03,  1.06000682e+03, -7.54234046e+03],\n",
       "       [ 6.87123858e+06, -1.74622983e-10, -4.65661287e-10,\n",
       "         2.83120771e-03, -1.06000176e+03,  7.54230444e+03],\n",
       "       [-6.87119578e+06,  3.72892828e-10, -4.59840521e-09,\n",
       "         2.94725126e-03,  1.06000784e+03, -7.54234771e+03],\n",
       "       [ 6.87122532e+06,  0.00000000e+00, -3.78349796e-10,\n",
       "         2.57278241e-03, -1.06000275e+03,  7.54231150e+03],\n",
       "       [-6.87118255e+06, -1.72440195e-09,  1.26019586e-08,\n",
       "         3.71571830e-03,  1.06000882e+03, -7.54235467e+03],\n",
       "       [ 6.87121214e+06,  2.77213985e-09, -2.04308890e-08,\n",
       "         1.60150457e-03, -1.06000373e+03,  7.54231843e+03],\n",
       "       [-6.87117083e+06,  2.03726813e-09, -1.16415322e-08,\n",
       "         3.60380230e-03,  1.06000964e+03, -7.54236053e+03],\n",
       "       [ 6.87119732e+06, -2.64844857e-09,  1.18743628e-08,\n",
       "         1.12366161e-03, -1.06000506e+03,  7.54232789e+03],\n",
       "       [-6.87115748e+06,  1.28056854e-09, -5.12227416e-09,\n",
       "         1.76844319e-03,  1.06001069e+03, -7.54236798e+03],\n",
       "       [ 6.87118404e+06,  1.44245860e-09, -1.51339918e-08,\n",
       "         1.67061467e-03, -1.06000607e+03,  7.54233508e+03],\n",
       "       [-6.87114423e+06, -5.23868948e-10,  7.88713805e-09,\n",
       "         2.21208834e-03,  1.06001168e+03, -7.54237500e+03],\n",
       "       [ 6.87117082e+06, -1.95723260e-09,  9.66247171e-09,\n",
       "         8.37168306e-04, -1.06000705e+03,  7.54234203e+03],\n",
       "       [-6.87113106e+06, -2.41561793e-09,  2.10129656e-08,\n",
       "         3.22122703e-03,  1.06001265e+03, -7.54238192e+03],\n",
       "       [ 6.87115920e+06,  9.31322575e-10, -9.54605639e-09,\n",
       "         1.24304079e-03, -1.06000786e+03,  7.54234786e+03],\n",
       "       [-6.87111621e+06,  2.35741027e-09, -1.23400241e-08,\n",
       "         3.48304722e-03,  1.06001400e+03, -7.54239149e+03],\n",
       "       [ 6.87114587e+06, -2.68232725e-09,  1.74777597e-08,\n",
       "         2.97013538e-03, -1.06000890e+03,  7.54235527e+03],\n",
       "       [-6.87110293e+06,  6.97946234e-09, -4.87489160e-08,\n",
       "         3.08187403e-03,  1.06001500e+03, -7.54239865e+03],\n",
       "       [ 6.87113262e+06,  4.34374670e-09, -3.23343556e-08,\n",
       "         2.46195945e-03, -1.06000989e+03,  7.54236228e+03],\n",
       "       [-6.87108972e+06,  7.47240847e-09, -5.05824573e-08,\n",
       "         3.94165370e-03,  1.06001598e+03, -7.54240560e+03],\n",
       "       [ 6.87112064e+06,  3.07045411e-09, -2.52621248e-08,\n",
       "         2.02282737e-03, -1.06001073e+03,  7.54236823e+03],\n",
       "       [-6.87107496e+06,  6.40284270e-10, -5.82076609e-10,\n",
       "         4.93525956e-03,  1.06001727e+03, -7.54241482e+03],\n",
       "       [ 6.87110724e+06, -3.05590220e-09,  1.69966370e-08,\n",
       "         3.91497968e-03, -1.06001179e+03,  7.54237576e+03],\n",
       "       [-6.87106168e+06, -2.09911377e-09,  1.98488124e-08,\n",
       "         4.03069519e-03,  1.06001829e+03, -7.54242207e+03],\n",
       "       [ 6.87109398e+06, -7.09405867e-09,  4.44997568e-08,\n",
       "         3.65521773e-03, -1.06001278e+03,  7.54238282e+03],\n",
       "       [-6.87104845e+06, -9.60426405e-10,  1.41735654e-08,\n",
       "         4.79972342e-03,  1.06001927e+03, -7.54242903e+03],\n",
       "       [ 6.87108080e+06, -4.38012648e-09,  2.15368345e-08,\n",
       "         2.68372668e-03, -1.06001375e+03,  7.54238975e+03],\n",
       "       [-6.87103672e+06, -1.26601662e-09,  1.99070200e-08,\n",
       "         4.68602036e-03,  1.06002010e+03, -7.54243489e+03],\n",
       "       [ 6.87106598e+06, -6.69388101e-09,  3.56230885e-08,\n",
       "         2.20734658e-03, -1.06001508e+03,  7.54239922e+03],\n",
       "       [-6.87102338e+06, -3.72529030e-09,  3.93483788e-08,\n",
       "         2.85129945e-03,  1.06002114e+03, -7.54244234e+03],\n",
       "       [ 6.87105270e+06,  5.03678166e-09, -4.43251338e-08,\n",
       "         2.75345349e-03, -1.06001609e+03,  7.54240641e+03],\n",
       "       [-6.87101012e+06,  1.17870513e-09,  7.85803422e-10,\n",
       "         3.29543029e-03,  1.06002213e+03, -7.54244936e+03],\n",
       "       [ 6.87103948e+06,  3.20142135e-09, -3.30619514e-08,\n",
       "         1.91989509e-03, -1.06001707e+03,  7.54241336e+03],\n",
       "       [-6.87099696e+06,  1.40425982e-09, -1.16415322e-10,\n",
       "         4.30472352e-03,  1.06002310e+03, -7.54245628e+03],\n",
       "       [ 6.87102787e+06, -8.87666829e-09,  5.43659553e-08,\n",
       "         2.32664395e-03, -1.06001789e+03,  7.54241919e+03],\n",
       "       [-6.87098210e+06,  2.18278728e-09, -3.49245965e-09,\n",
       "         4.56600059e-03,  1.06002445e+03, -7.54246585e+03],\n",
       "       [ 6.87101454e+06,  1.96223482e-10, -1.37579264e-08,\n",
       "         4.05346188e-03, -1.06001893e+03,  7.54242659e+03],\n",
       "       [-6.87096883e+06, -3.87626642e-09,  4.31464287e-08,\n",
       "         4.16528446e-03,  1.06002545e+03, -7.54247302e+03],\n",
       "       [ 6.87100129e+06, -5.70435077e-09,  2.38069333e-08,\n",
       "         3.54515462e-03, -1.06001991e+03,  7.54243360e+03],\n",
       "       [-6.87095562e+06,  1.12777343e-09,  1.01281330e-08,\n",
       "         5.02519530e-03,  1.06002643e+03, -7.54247996e+03],\n",
       "       [ 6.87098930e+06, -4.70026862e-09,  1.65309757e-08,\n",
       "         3.10628455e-03, -1.06002075e+03,  7.54243956e+03],\n",
       "       [-6.87094086e+06,  1.30967237e-08, -7.63684511e-08,\n",
       "         6.01860560e-03,  1.06002772e+03, -7.54248918e+03],\n",
       "       [ 6.87097590e+06, -7.88713805e-09,  4.00468707e-08,\n",
       "         4.99857371e-03, -1.06002181e+03,  7.54244709e+03],\n",
       "       [-6.87092758e+06, -2.56477506e-10,  1.96887413e-08,\n",
       "         5.11428893e-03,  1.06002874e+03, -7.54249643e+03],\n",
       "       [ 6.87096265e+06, -1.11613190e-08,  6.27769623e-08,\n",
       "         4.73875204e-03, -1.06002280e+03,  7.54245415e+03],\n",
       "       [-6.87091435e+06, -9.95351002e-09,  8.47794581e-08,\n",
       "         5.88341839e-03,  1.06002972e+03, -7.54250339e+03],\n",
       "       [ 6.87094947e+06,  2.45199772e-09, -3.03261913e-08,\n",
       "         3.76728427e-03, -1.06002378e+03,  7.54246108e+03],\n",
       "       [-6.87090262e+06, -8.76025297e-09,  7.62520358e-08,\n",
       "         5.76961221e-03,  1.06003055e+03, -7.54250925e+03],\n",
       "       [ 6.87093464e+06, -8.73114914e-10, -6.05359674e-09,\n",
       "         3.29106155e-03, -1.06002511e+03,  7.54247054e+03],\n",
       "       [-6.87088928e+06,  4.27826308e-09, -1.79279596e-08,\n",
       "         3.93497530e-03,  1.06003159e+03, -7.54251670e+03],\n",
       "       [ 6.87092136e+06,  2.72302714e-09, -3.10828909e-08,\n",
       "         3.83715170e-03, -1.06002612e+03,  7.54247774e+03],\n",
       "       [-6.87087603e+06, -1.01717887e-08,  8.32660589e-08,\n",
       "         4.37919991e-03,  1.06003258e+03, -7.54252372e+03],\n",
       "       [ 6.87090815e+06, -1.07611413e-08,  6.41448423e-08,\n",
       "         3.00362558e-03, -1.06002709e+03,  7.54248469e+03],\n",
       "       [-6.87086286e+06,  1.33441063e-08, -8.17235559e-08,\n",
       "         5.38856392e-03,  1.06003355e+03, -7.54253064e+03],\n",
       "       [ 6.87089653e+06,  5.48607204e-09, -4.98257577e-08,\n",
       "         3.41049188e-03, -1.06002791e+03,  7.54249051e+03],\n",
       "       [-6.87084801e+06,  1.39698386e-08, -9.17352736e-08,\n",
       "         5.64984154e-03,  1.06003490e+03, -7.54254021e+03],\n",
       "       [ 6.87088320e+06, -5.73072612e-09,  3.21397238e-08,\n",
       "         5.13735127e-03, -1.06002895e+03,  7.54249792e+03],\n",
       "       [-6.87083473e+06,  1.32531568e-08, -8.68021743e-08,\n",
       "         5.24920649e-03,  1.06003590e+03, -7.54254738e+03],\n",
       "       [ 6.87086995e+06, -1.42572389e-08,  9.21427272e-08,\n",
       "         4.62907908e-03, -1.06002994e+03,  7.54250493e+03],\n",
       "       [-6.87082152e+06,  8.14179657e-09, -4.91854735e-08,\n",
       "         6.10918456e-03,  1.06003688e+03, -7.54255432e+03],\n",
       "       [ 6.87085797e+06, -9.83709469e-09,  6.15837052e-08,\n",
       "         4.19026961e-03, -1.06003078e+03,  7.54251089e+03],\n",
       "       [-6.87080677e+06,  5.47152013e-09, -2.88709998e-08,\n",
       "         7.10263363e-03,  1.06003818e+03, -7.54256354e+03],\n",
       "       [ 6.87084457e+06,  2.67755240e-09, -2.37487257e-08,\n",
       "         6.08263229e-03, -1.06003183e+03,  7.54251842e+03],\n",
       "       [-6.87079348e+06,  9.91349225e-09, -6.46978151e-08,\n",
       "         6.19837383e-03,  1.06003919e+03, -7.54257079e+03],\n",
       "       [ 6.87083131e+06,  3.88536137e-09, -3.20433173e-08,\n",
       "         5.82285518e-03, -1.06003283e+03,  7.54252548e+03],\n",
       "       [-6.87078025e+06,  8.68021743e-09, -5.56756277e-08,\n",
       "         6.96756707e-03,  1.06004017e+03, -7.54257775e+03],\n",
       "       [ 6.87081813e+06, -8.40373104e-09,  5.69270924e-08,\n",
       "         4.85142969e-03, -1.06003380e+03,  7.54253240e+03],\n",
       "       [-6.87076853e+06, -9.41508915e-09,  7.00820237e-08,\n",
       "         6.85379532e-03,  1.06004100e+03, -7.54258361e+03],\n",
       "       [ 6.87080331e+06, -7.68341124e-09,  5.09899110e-08,\n",
       "         4.37525762e-03, -1.06003513e+03,  7.54254187e+03],\n",
       "       [-6.87075518e+06,  9.02218744e-10, -2.32830644e-09,\n",
       "         5.01919684e-03,  1.06004204e+03, -7.54259106e+03],\n",
       "       [ 6.87079003e+06, -5.63886715e-10,  4.38012648e-09,\n",
       "         4.92139892e-03, -1.06003614e+03,  7.54254906e+03],\n",
       "       [-6.87074193e+06,  6.80302037e-10, -5.03496267e-09,\n",
       "         5.46348342e-03,  1.06004303e+03, -7.54259808e+03],\n",
       "       [ 6.87077681e+06,  1.47338142e-08, -1.02969352e-07,\n",
       "         4.08791719e-03, -1.06003712e+03,  7.54255601e+03],\n",
       "       [-6.87072877e+06,  4.67844075e-09, -3.61469574e-08,\n",
       "         6.47291099e-03,  1.06004400e+03, -7.54260500e+03],\n",
       "       [ 6.87076520e+06,  5.25324140e-09, -3.42261046e-08,\n",
       "         4.49483831e-03, -1.06003794e+03,  7.54256184e+03],\n",
       "       [-6.87071391e+06, -2.99769454e-09,  1.81607902e-08,\n",
       "         6.73423351e-03,  1.06004535e+03, -7.54261457e+03],\n",
       "       [ 6.87075187e+06,  8.96375241e-09, -6.05659807e-08,\n",
       "         6.22176550e-03, -1.06003898e+03,  7.54256925e+03],\n",
       "       [-6.87070064e+06,  8.09086487e-09, -6.03904482e-08,\n",
       "         6.33364879e-03,  1.06004635e+03, -7.54262174e+03],\n",
       "       [ 6.87073862e+06, -3.73256626e-09,  2.85217538e-08,\n",
       "         5.71354195e-03, -1.06003996e+03,  7.54257626e+03],\n",
       "       [-6.87068743e+06, -1.36278686e-08,  9.65665095e-08,\n",
       "         7.19368877e-03,  1.06004733e+03, -7.54262868e+03],\n",
       "       [ 6.87072664e+06,  1.40134944e-08, -9.94186848e-08,\n",
       "         5.27477664e-03, -1.06004080e+03,  7.54258221e+03],\n",
       "       [-6.87067267e+06, -1.52213033e-08,  1.06287189e-07,\n",
       "         8.18719591e-03,  1.06004863e+03, -7.54263790e+03],\n",
       "       [ 6.87071324e+06, -1.45519152e-08,  1.04075298e-07,\n",
       "         7.16720716e-03, -1.06004186e+03,  7.54258974e+03],\n",
       "       [-6.87065939e+06,  9.34960553e-10, -5.16592991e-09,\n",
       "         7.28297726e-03,  1.06004965e+03, -7.54264515e+03],\n",
       "       [ 6.87069998e+06,  9.73523129e-09, -7.27304723e-08,\n",
       "         6.90748328e-03, -1.06004285e+03,  7.54259681e+03],\n",
       "       [-6.87064616e+06, -1.25801307e-08,  9.24337655e-08,\n",
       "         8.05223101e-03,  1.06005062e+03, -7.54265211e+03],\n",
       "       [ 6.87068680e+06, -2.96859071e-09,  1.80443749e-08,\n",
       "         5.93610182e-03, -1.06004382e+03,  7.54260373e+03],\n",
       "       [-6.87063444e+06, -2.02126103e-08,  1.48080289e-07,\n",
       "         7.93850514e-03,  1.06005145e+03, -7.54265797e+03],\n",
       "       [ 6.87067198e+06,  2.00816430e-09, -1.76951289e-08,\n",
       "         5.45997162e-03, -1.06004515e+03,  7.54261320e+03],\n",
       "       [-6.87062109e+06,  9.60426405e-09, -6.47269189e-08,\n",
       "         6.10394152e-03,  1.06005249e+03, -7.54266542e+03],\n",
       "       [ 6.87065870e+06, -7.13589543e-09,  4.49508661e-08,\n",
       "         6.00616944e-03, -1.06004617e+03,  7.54262039e+03],\n",
       "       [-6.87060784e+06, -4.11091605e-10,  6.81029633e-09,\n",
       "         6.54828722e-03,  1.06005348e+03, -7.54267244e+03],\n",
       "       [ 6.87064548e+06,  1.12486305e-08, -8.41682777e-08,\n",
       "         5.17273282e-03, -1.06004714e+03,  7.54262734e+03],\n",
       "       [-6.87059468e+06, -1.10157998e-08,  8.30041245e-08,\n",
       "         7.55777777e-03,  1.06005445e+03, -7.54267936e+03],\n",
       "       [ 6.87063387e+06, -1.30967237e-09,  1.28056854e-09,\n",
       "         5.57970385e-03, -1.06004796e+03,  7.54263317e+03],\n",
       "       [-6.87057982e+06,  1.89756975e-08, -1.27358362e-07,\n",
       "         7.81914918e-03,  1.06005580e+03, -7.54268893e+03],\n",
       "       [ 6.87062054e+06,  1.93556389e-08, -1.45499143e-07,\n",
       "         7.30670094e-03, -1.06004900e+03,  7.54264058e+03],\n",
       "       [-6.87056655e+06, -1.19907781e-08,  9.20554157e-08,\n",
       "         7.41861181e-03,  1.06005681e+03, -7.54269610e+03],\n",
       "       [ 6.87060729e+06, -1.13977876e-08,  7.40110409e-08,\n",
       "         6.79852701e-03, -1.06004999e+03,  7.54264759e+03],\n",
       "       [-6.87055334e+06,  1.05501385e-08, -6.74626790e-08,\n",
       "         8.27871373e-03,  1.06005778e+03, -7.54270304e+03],\n",
       "       [ 6.87059531e+06,  9.63336788e-09, -7.66012818e-08,\n",
       "         6.35980439e-03, -1.06005082e+03,  7.54265354e+03],\n",
       "       [-6.87053858e+06, -2.70374585e-08,  2.03028321e-07,\n",
       "         9.27228018e-03,  1.06005908e+03, -7.54271226e+03],\n",
       "       [ 6.87058191e+06, -9.19681042e-09,  5.91389835e-08,\n",
       "         8.25230270e-03, -1.06005188e+03,  7.54266107e+03],\n",
       "       [-6.87052530e+06,  9.08221409e-09, -5.70580596e-08,\n",
       "         8.36810144e-03,  1.06006010e+03, -7.54271951e+03],\n",
       "       [ 6.87056865e+06,  6.18092599e-09, -5.09317033e-08,\n",
       "         7.99263244e-03, -1.06005288e+03,  7.54266813e+03],\n",
       "       [-6.87051207e+06, -6.03904482e-10,  1.19616743e-08,\n",
       "         9.13741555e-03,  1.06006107e+03, -7.54272647e+03],\n",
       "       [ 6.87055547e+06, -1.14232535e-09, -6.98491931e-10,\n",
       "         7.02129516e-03, -1.06005385e+03,  7.54267506e+03],\n",
       "       [-6.87050035e+06, -2.08237907e-08,  1.54948793e-07,\n",
       "         9.02373628e-03,  1.06006190e+03, -7.54273234e+03],\n",
       "       [ 6.87054065e+06,  2.12166924e-08, -1.56695023e-07,\n",
       "         6.54520618e-03, -1.06005518e+03,  7.54268453e+03],\n",
       "       [-6.87048700e+06, -1.00408215e-08,  8.40518624e-08,\n",
       "         7.18920685e-03,  1.06006294e+03, -7.54273978e+03],\n",
       "       [ 6.87052737e+06, -2.90201569e-08,  1.97556801e-07,\n",
       "         7.09146073e-03, -1.06005619e+03,  7.54269172e+03],\n",
       "       [-6.87047375e+06,  1.07174856e-08, -6.80738594e-08,\n",
       "         7.63361176e-03,  1.06006393e+03, -7.54274680e+03],\n",
       "       [ 6.87051415e+06,  7.42147677e-10, -1.30967237e-08,\n",
       "         6.25806933e-03, -1.06005717e+03,  7.54269867e+03],\n",
       "       [-6.87046059e+06,  2.56113708e-09, -8.96397978e-09,\n",
       "         8.64316535e-03,  1.06006490e+03, -7.54275372e+03],\n",
       "       [ 6.87050254e+06, -3.00642569e-08,  2.04076059e-07,\n",
       "         6.66508967e-03, -1.06005799e+03,  7.54270450e+03],\n",
       "       [-6.87044573e+06,  2.14786269e-08, -1.39465556e-07,\n",
       "         8.90458551e-03,  1.06006625e+03, -7.54276329e+03],\n",
       "       [ 6.87048921e+06,  9.20317689e-09, -7.80428309e-08,\n",
       "         8.39215683e-03, -1.06005903e+03,  7.54271191e+03],\n",
       "       [-6.87043246e+06,  2.26555130e-08, -1.50073902e-07,\n",
       "         8.50409584e-03,  1.06006726e+03, -7.54277046e+03],\n",
       "       [ 6.87047596e+06,  1.72149157e-08, -1.33615686e-07,\n",
       "         7.88403302e-03, -1.06006001e+03,  7.54271892e+03],\n",
       "       [-6.87041925e+06, -1.87355909e-08,  1.44238584e-07,\n",
       "         9.36425877e-03,  1.06006823e+03, -7.54277741e+03],\n",
       "       [ 6.87046398e+06,  2.05764081e-08, -1.57393515e-07,\n",
       "         7.44535276e-03, -1.06006085e+03,  7.54272487e+03],\n",
       "       [-6.87040450e+06, -1.36788003e-09,  1.85100362e-08,\n",
       "         1.03578853e-02,  1.06006953e+03, -7.54278662e+03],\n",
       "       [ 6.87045058e+06,  1.93831511e-08, -1.48545951e-07,\n",
       "         9.33791885e-03, -1.06006191e+03,  7.54273241e+03],\n",
       "       [-6.87039121e+06, -4.63478500e-09,  4.18222044e-08,\n",
       "         9.45374589e-03,  1.06007055e+03, -7.54279387e+03],\n",
       "       [ 6.87043732e+06,  2.26864358e-08, -1.69704435e-07,\n",
       "         9.07830222e-03, -1.06006290e+03,  7.54273947e+03],\n",
       "       [-6.87037798e+06,  2.88782758e-08, -1.96916517e-07,\n",
       "         1.02231206e-02,  1.06007153e+03, -7.54280083e+03],\n",
       "       [ 6.87042414e+06,  4.93309926e-09, -4.41796146e-08,\n",
       "         8.10700895e-03, -1.06006387e+03,  7.54274639e+03],\n",
       "       [-6.87036626e+06,  2.47237040e-08, -1.67055987e-07,\n",
       "         1.01094882e-02,  1.06007235e+03, -7.54280670e+03],\n",
       "       [ 6.87040932e+06,  2.77650543e-08, -2.04425305e-07,\n",
       "         7.63096094e-03, -1.06006520e+03,  7.54275586e+03],\n",
       "       [-6.87035292e+06, -5.12227416e-09,  4.61004674e-08,\n",
       "         8.27499272e-03,  1.06007340e+03, -7.54281414e+03],\n",
       "       [ 6.87039604e+06,  1.88756530e-08, -1.43161742e-07,\n",
       "         8.17727290e-03, -1.06006622e+03,  7.54276305e+03],\n",
       "       [-6.87033967e+06, -5.41695044e-09,  4.56639100e-08,\n",
       "         8.71945638e-03,  1.06007438e+03, -7.54282117e+03],\n",
       "       [ 6.87038283e+06,  5.87897375e-09, -4.87198122e-08,\n",
       "         7.34392626e-03, -1.06006719e+03,  7.54277000e+03],\n",
       "       [-6.87032650e+06,  9.24046617e-10,  2.79396772e-09,\n",
       "         9.72907307e-03,  1.06007536e+03, -7.54282809e+03],\n",
       "       [ 6.87037121e+06,  2.71829776e-08, -2.03726813e-07,\n",
       "         7.75099641e-03, -1.06006801e+03,  7.54277583e+03],\n",
       "       [-6.87031165e+06,  1.67055987e-08, -1.06869265e-07,\n",
       "         9.99054203e-03,  1.06007670e+03, -7.54283765e+03],\n",
       "       [ 6.87035788e+06, -2.39342626e-08,  1.61167009e-07,\n",
       "         9.47813274e-03, -1.06006905e+03,  7.54278324e+03],\n",
       "       [-6.87029838e+06, -4.90035745e-09,  4.22442099e-08,\n",
       "         9.59009958e-03,  1.06007771e+03, -7.54284482e+03],\n",
       "       [ 6.87034463e+06, -2.98095983e-08,  2.04396201e-07,\n",
       "         8.97005861e-03, -1.06007004e+03,  7.54279025e+03],\n",
       "       [-6.87028517e+06,  3.06317816e-08, -2.10420694e-07,\n",
       "         1.04503246e-02,  1.06007868e+03, -7.54285177e+03],\n",
       "       [ 6.87033265e+06,  8.14907253e-09, -6.60074875e-08,\n",
       "         8.53142109e-03, -1.06007087e+03,  7.54279621e+03],\n",
       "       [-6.87027041e+06,  1.80734787e-08, -1.22352503e-07,\n",
       "         1.14440106e-02,  1.06007998e+03, -7.54286098e+03],\n",
       "       [ 6.87031925e+06,  6.72298484e-09, -5.82076609e-08,\n",
       "         1.04240548e-02, -1.06007193e+03,  7.54280374e+03],\n",
       "       [-6.87025713e+06,  1.27729436e-08, -8.20145942e-08,\n",
       "         1.05399107e-02,  1.06008100e+03, -7.54286823e+03],\n",
       "       [ 6.87030600e+06, -3.01115506e-08,  2.04425305e-07,\n",
       "         1.01644915e-02, -1.06007293e+03,  7.54281080e+03]])"
      ]
     },
     "execution_count": 391,
     "metadata": {},
     "output_type": "execute_result"
    }
   ],
   "source": [
    "dal=200e3/R_earth\n",
    "sol.y_events[0]"
   ]
  },
  {
   "cell_type": "code",
   "execution_count": 392,
   "metadata": {},
   "outputs": [
    {
     "data": {
      "text/plain": [
       "np.float64(355.37758866665234)"
      ]
     },
     "execution_count": 392,
     "metadata": {},
     "output_type": "execute_result"
    },
    {
     "data": {
      "image/png": "[encoded data removed]",
      "text/plain": [
       "<Figure size 640x480 with 1 Axes>"
      ]
     },
     "metadata": {},
     "output_type": "display_data"
    }
   ],
   "source": [
    "crd=np.array(list(map(getProjection,(sol.y_events)[0]))).transpose()\n",
    "crd[1]-=sol.t_events[0]*omega_earth\n",
    "for i in range(crd[1].shape[0]):\n",
    "    while (crd[1][i]<-np.pi):\n",
    "        crd[1][i]+=2*np.pi\n",
    "wh=np.where(np.abs(crd[0])<dal)[0]\n",
    "plt.scatter(crd[1][wh],crd[0][wh])\n",
    "plt.plot([-dal/2,-dal/2],[-dal,dal], c='orange')\n",
    "plt.plot([dal/2,dal/2],[-dal,dal], c='orange')\n",
    "plt.plot([-3*dal/2,-3*dal/2],[-dal,dal], c='orange')\n",
    "plt.plot([3*dal/2,3*dal/2],[-dal,dal], c='orange')\n",
    "plt.xlim(-2*dal, 2*dal)\n",
    "plt.grid()\n",
    "np.max(crd[1])*360/np.pi\n"
   ]
  },
  {
   "cell_type": "code",
   "execution_count": 393,
   "metadata": {},
   "outputs": [
    {
     "name": "stdout",
     "output_type": "stream",
     "text": [
      "0.031390758121338465\n",
      "0.0045591082907350255\n",
      "0.04208943035277102\n"
     ]
    }
   ],
   "source": [
    "scrd=np.array(sorted(crd[1]))\n",
    "print(dal)\n",
    "print(np.min(scrd[1:]-scrd[:-1]))\n",
    "print(np.max(scrd[1:]-scrd[:-1]))"
   ]
  },
  {
   "cell_type": "code",
   "execution_count": null,
   "metadata": {},
   "outputs": [],
   "source": []
  },
  {
   "cell_type": "code",
   "execution_count": 394,
   "metadata": {},
   "outputs": [
    {
     "name": "stdout",
     "output_type": "stream",
     "text": [
      "0.0045591082907350255\n"
     ]
    }
   ],
   "source": [
    "print(crd[1][crd.shape[1]-1])"
   ]
  },
  {
   "cell_type": "markdown",
   "metadata": {},
   "source": [
    "Каждый виток долгота меняется на ~ -0.4123 рад"
   ]
  },
  {
   "cell_type": "code",
   "execution_count": 395,
   "metadata": {},
   "outputs": [
    {
     "data": {
      "text/plain": [
       "2357381.7399999998"
      ]
     },
     "execution_count": 395,
     "metadata": {},
     "output_type": "execute_result"
    }
   ],
   "source": [
    "0.37 * R_earth"
   ]
  },
  {
   "cell_type": "code",
   "execution_count": 396,
   "metadata": {},
   "outputs": [
    {
     "name": "stdout",
     "output_type": "stream",
     "text": [
      "(6, 7200)\n"
     ]
    },
    {
     "ename": "ValueError",
     "evalue": "matmul: Input operand 1 has a mismatch in its core dimension 0, with gufunc signature (n?,k),(k,m?)->(n?,m?) (size 6 is different from 3)",
     "output_type": "error",
     "traceback": [
      "\u001b[0;31m---------------------------------------------------------------------------\u001b[0m",
      "\u001b[0;31mValueError\u001b[0m                                Traceback (most recent call last)",
      "Cell \u001b[0;32mIn[396], line 1\u001b[0m\n\u001b[0;32m----> 1\u001b[0m y_kep \u001b[38;5;241m=\u001b[39m \u001b[43mkeplerian_based\u001b[49m\u001b[43m(\u001b[49m\u001b[43msol\u001b[49m\u001b[38;5;241;43m.\u001b[39;49m\u001b[43my\u001b[49m\u001b[43m,\u001b[49m\u001b[43m \u001b[49m\u001b[43mnp\u001b[49m\u001b[38;5;241;43m.\u001b[39;49m\u001b[43mpi\u001b[49m\u001b[43m \u001b[49m\u001b[38;5;241;43m/\u001b[39;49m\u001b[43m \u001b[49m\u001b[38;5;241;43m2\u001b[39;49m\u001b[43m)\u001b[49m\n\u001b[1;32m      2\u001b[0m fig, ax \u001b[38;5;241m=\u001b[39m plt\u001b[38;5;241m.\u001b[39msubplots(subplot_kw\u001b[38;5;241m=\u001b[39m{\u001b[38;5;124m\"\u001b[39m\u001b[38;5;124mprojection\u001b[39m\u001b[38;5;124m\"\u001b[39m: \u001b[38;5;124m\"\u001b[39m\u001b[38;5;124m3d\u001b[39m\u001b[38;5;124m\"\u001b[39m})\n\u001b[1;32m      3\u001b[0m ax\u001b[38;5;241m.\u001b[39mplot(y_kep[\u001b[38;5;241m0\u001b[39m], y_kep[\u001b[38;5;241m1\u001b[39m], y_kep[\u001b[38;5;241m2\u001b[39m])\n",
      "Cell \u001b[0;32mIn[55], line 7\u001b[0m, in \u001b[0;36mkeplerian_based\u001b[0;34m(y, i)\u001b[0m\n\u001b[1;32m      3\u001b[0m R_x \u001b[38;5;241m=\u001b[39m np\u001b[38;5;241m.\u001b[39marray([[\u001b[38;5;241m1\u001b[39m, \u001b[38;5;241m0\u001b[39m, \u001b[38;5;241m0\u001b[39m],\n\u001b[1;32m      4\u001b[0m                 [\u001b[38;5;241m0\u001b[39m, np\u001b[38;5;241m.\u001b[39mcos(i), \u001b[38;5;241m-\u001b[39mnp\u001b[38;5;241m.\u001b[39msin(i)],\n\u001b[1;32m      5\u001b[0m                 [\u001b[38;5;241m0\u001b[39m, np\u001b[38;5;241m.\u001b[39msin(i), np\u001b[38;5;241m.\u001b[39mcos(i)]])\n\u001b[1;32m      6\u001b[0m \u001b[38;5;28mprint\u001b[39m(y\u001b[38;5;241m.\u001b[39mshape)\n\u001b[0;32m----> 7\u001b[0m \u001b[38;5;28;01mreturn\u001b[39;00m \u001b[43mR_x\u001b[49m\u001b[43m \u001b[49m\u001b[38;5;241;43m@\u001b[39;49m\u001b[43m \u001b[49m\u001b[43my\u001b[49m\n",
      "\u001b[0;31mValueError\u001b[0m: matmul: Input operand 1 has a mismatch in its core dimension 0, with gufunc signature (n?,k),(k,m?)->(n?,m?) (size 6 is different from 3)"
     ]
    }
   ],
   "source": [
    "y_kep = keplerian_based(sol.y, np.pi / 2)\n",
    "fig, ax = plt.subplots(subplot_kw={\"projection\": \"3d\"})\n",
    "ax.plot(y_kep[0], y_kep[1], y_kep[2])"
   ]
  }
 ],
 "metadata": {
  "kernelspec": {
   "display_name": "Python 3",
   "language": "python",
   "name": "python3"
  },
  "language_info": {
   "codemirror_mode": {
    "name": "ipython",
    "version": 3
   },
   "file_extension": ".py",
   "mimetype": "text/x-python",
   "name": "python",
   "nbconvert_exporter": "python",
   "pygments_lexer": "ipython3",
   "version": "3.10.6"
  }
 },
 "nbformat": 4,
 "nbformat_minor": 2
}
